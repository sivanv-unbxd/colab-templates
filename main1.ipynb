{
  "nbformat": 4,
  "nbformat_minor": 0,
  "metadata": {
    "colab": {
      "name": "Overview of Colaboratory Features",
      "provenance": [],
      "collapsed_sections": [],
      "toc_visible": true,
      "include_colab_link": true
    },
    "kernelspec": {
      "display_name": "Python 3",
      "name": "python3"
    }
  },
  "cells": [
    {
      "cell_type": "markdown",
      "metadata": {
        "id": "view-in-github",
        "colab_type": "text"
      },
      "source": [
        "<a href=\"https://colab.research.google.com/github/sivanv-unbxd/infinity-templates/blob/main/main1.ipynb\" target=\"_parent\"><img src=\"https://colab.research.google.com/assets/colab-badge.svg\" alt=\"Open In Colab\"/></a>"
      ]
    },
    {
      "cell_type": "code",
      "metadata": {
        "id": "pLvJ-XX10u0p"
      },
      "source": [
        "alpha=1\n",
        "ratio=2"
      ],
      "execution_count": null,
      "outputs": []
    },
    {
      "cell_type": "markdown",
      "metadata": {
        "id": "JyG45Qk3qQLS"
      },
      "source": [
        "# Cells\n",
        "A notebook is a list of cells. Cells contain either explanatory text or executable code and its output. Click a cell to select it."
      ]
    },
    {
      "cell_type": "code",
      "metadata": {
        "id": "vywgu0FH5an9",
        "outputId": "833167df-22c5-431b-9ea8-9064a1dbaa55",
        "colab": {
          "base_uri": "https://localhost:8080/"
        }
      },
      "source": [
        "pip install papermill[all]"
      ],
      "execution_count": 2,
      "outputs": [
        {
          "output_type": "stream",
          "text": [
            "Requirement already satisfied: papermill[all] in /usr/local/lib/python3.7/dist-packages (2.3.3)\n",
            "Requirement already satisfied: nbformat>=5.1.2 in /usr/local/lib/python3.7/dist-packages (from papermill[all]) (5.1.3)\n",
            "Requirement already satisfied: entrypoints in /usr/local/lib/python3.7/dist-packages (from papermill[all]) (0.3)\n",
            "Requirement already satisfied: requests in /usr/local/lib/python3.7/dist-packages (from papermill[all]) (2.23.0)\n",
            "Requirement already satisfied: black in /usr/local/lib/python3.7/dist-packages (from papermill[all]) (21.7b0)\n",
            "Requirement already satisfied: pyyaml in /usr/local/lib/python3.7/dist-packages (from papermill[all]) (3.13)\n",
            "Requirement already satisfied: ansiwrap in /usr/local/lib/python3.7/dist-packages (from papermill[all]) (0.8.4)\n",
            "Requirement already satisfied: tenacity in /usr/local/lib/python3.7/dist-packages (from papermill[all]) (8.0.1)\n",
            "Requirement already satisfied: nbclient>=0.2.0 in /usr/local/lib/python3.7/dist-packages (from papermill[all]) (0.5.3)\n",
            "Requirement already satisfied: click in /usr/local/lib/python3.7/dist-packages (from papermill[all]) (7.1.2)\n",
            "Requirement already satisfied: tqdm>=4.32.2 in /usr/local/lib/python3.7/dist-packages (from papermill[all]) (4.41.1)\n",
            "Requirement already satisfied: pyarrow in /usr/local/lib/python3.7/dist-packages (from papermill[all]) (3.0.0)\n",
            "Requirement already satisfied: azure-storage-blob>=12.1.0 in /usr/local/lib/python3.7/dist-packages (from papermill[all]) (12.8.1)\n",
            "Requirement already satisfied: boto3 in /usr/local/lib/python3.7/dist-packages (from papermill[all]) (1.18.8)\n",
            "Requirement already satisfied: gcsfs>=0.2.0 in /usr/local/lib/python3.7/dist-packages (from papermill[all]) (2021.7.0)\n",
            "Requirement already satisfied: azure-datalake-store>=0.0.30 in /usr/local/lib/python3.7/dist-packages (from papermill[all]) (0.0.52)\n",
            "Requirement already satisfied: adal>=0.4.2 in /usr/local/lib/python3.7/dist-packages (from azure-datalake-store>=0.0.30->papermill[all]) (1.2.7)\n",
            "Requirement already satisfied: cffi in /usr/local/lib/python3.7/dist-packages (from azure-datalake-store>=0.0.30->papermill[all]) (1.14.6)\n",
            "Requirement already satisfied: PyJWT<3,>=1.0.0 in /usr/local/lib/python3.7/dist-packages (from adal>=0.4.2->azure-datalake-store>=0.0.30->papermill[all]) (2.1.0)\n",
            "Requirement already satisfied: python-dateutil<3,>=2.1.0 in /usr/local/lib/python3.7/dist-packages (from adal>=0.4.2->azure-datalake-store>=0.0.30->papermill[all]) (2.8.1)\n",
            "Requirement already satisfied: cryptography>=1.1.0 in /usr/local/lib/python3.7/dist-packages (from adal>=0.4.2->azure-datalake-store>=0.0.30->papermill[all]) (3.4.7)\n",
            "Requirement already satisfied: azure-core<2.0.0,>=1.10.0 in /usr/local/lib/python3.7/dist-packages (from azure-storage-blob>=12.1.0->papermill[all]) (1.16.0)\n",
            "Requirement already satisfied: msrest>=0.6.18 in /usr/local/lib/python3.7/dist-packages (from azure-storage-blob>=12.1.0->papermill[all]) (0.6.21)\n",
            "Requirement already satisfied: six>=1.11.0 in /usr/local/lib/python3.7/dist-packages (from azure-core<2.0.0,>=1.10.0->azure-storage-blob>=12.1.0->papermill[all]) (1.15.0)\n",
            "Requirement already satisfied: pycparser in /usr/local/lib/python3.7/dist-packages (from cffi->azure-datalake-store>=0.0.30->papermill[all]) (2.20)\n",
            "Requirement already satisfied: decorator in /usr/local/lib/python3.7/dist-packages (from gcsfs>=0.2.0->papermill[all]) (4.4.2)\n",
            "Requirement already satisfied: fsspec==2021.07.0 in /usr/local/lib/python3.7/dist-packages (from gcsfs>=0.2.0->papermill[all]) (2021.7.0)\n",
            "Requirement already satisfied: google-auth-oauthlib in /usr/local/lib/python3.7/dist-packages (from gcsfs>=0.2.0->papermill[all]) (0.4.4)\n",
            "Requirement already satisfied: aiohttp in /usr/local/lib/python3.7/dist-packages (from gcsfs>=0.2.0->papermill[all]) (3.7.4.post0)\n",
            "Requirement already satisfied: google-auth>=1.2 in /usr/local/lib/python3.7/dist-packages (from gcsfs>=0.2.0->papermill[all]) (1.32.1)\n",
            "Requirement already satisfied: rsa<5,>=3.1.4 in /usr/local/lib/python3.7/dist-packages (from google-auth>=1.2->gcsfs>=0.2.0->papermill[all]) (4.7.2)\n",
            "Requirement already satisfied: pyasn1-modules>=0.2.1 in /usr/local/lib/python3.7/dist-packages (from google-auth>=1.2->gcsfs>=0.2.0->papermill[all]) (0.2.8)\n",
            "Requirement already satisfied: cachetools<5.0,>=2.0.0 in /usr/local/lib/python3.7/dist-packages (from google-auth>=1.2->gcsfs>=0.2.0->papermill[all]) (4.2.2)\n",
            "Requirement already satisfied: setuptools>=40.3.0 in /usr/local/lib/python3.7/dist-packages (from google-auth>=1.2->gcsfs>=0.2.0->papermill[all]) (57.2.0)\n",
            "Requirement already satisfied: requests-oauthlib>=0.5.0 in /usr/local/lib/python3.7/dist-packages (from msrest>=0.6.18->azure-storage-blob>=12.1.0->papermill[all]) (1.3.0)\n",
            "Requirement already satisfied: isodate>=0.6.0 in /usr/local/lib/python3.7/dist-packages (from msrest>=0.6.18->azure-storage-blob>=12.1.0->papermill[all]) (0.6.0)\n",
            "Requirement already satisfied: certifi>=2017.4.17 in /usr/local/lib/python3.7/dist-packages (from msrest>=0.6.18->azure-storage-blob>=12.1.0->papermill[all]) (2021.5.30)\n",
            "Requirement already satisfied: async-generator in /usr/local/lib/python3.7/dist-packages (from nbclient>=0.2.0->papermill[all]) (1.10)\n",
            "Requirement already satisfied: nest-asyncio in /usr/local/lib/python3.7/dist-packages (from nbclient>=0.2.0->papermill[all]) (1.5.1)\n",
            "Requirement already satisfied: jupyter-client>=6.1.5 in /usr/local/lib/python3.7/dist-packages (from nbclient>=0.2.0->papermill[all]) (6.1.12)\n",
            "Requirement already satisfied: traitlets>=4.2 in /usr/local/lib/python3.7/dist-packages (from nbclient>=0.2.0->papermill[all]) (5.0.5)\n",
            "Requirement already satisfied: pyzmq>=13 in /usr/local/lib/python3.7/dist-packages (from jupyter-client>=6.1.5->nbclient>=0.2.0->papermill[all]) (22.1.0)\n",
            "Requirement already satisfied: jupyter-core>=4.6.0 in /usr/local/lib/python3.7/dist-packages (from jupyter-client>=6.1.5->nbclient>=0.2.0->papermill[all]) (4.7.1)\n",
            "Requirement already satisfied: tornado>=4.1 in /usr/local/lib/python3.7/dist-packages (from jupyter-client>=6.1.5->nbclient>=0.2.0->papermill[all]) (5.1.1)\n",
            "Requirement already satisfied: ipython-genutils in /usr/local/lib/python3.7/dist-packages (from nbformat>=5.1.2->papermill[all]) (0.2.0)\n",
            "Requirement already satisfied: jsonschema!=2.5.0,>=2.4 in /usr/local/lib/python3.7/dist-packages (from nbformat>=5.1.2->papermill[all]) (2.6.0)\n",
            "Requirement already satisfied: pyasn1<0.5.0,>=0.4.6 in /usr/local/lib/python3.7/dist-packages (from pyasn1-modules>=0.2.1->google-auth>=1.2->gcsfs>=0.2.0->papermill[all]) (0.4.8)\n",
            "Requirement already satisfied: idna<3,>=2.5 in /usr/local/lib/python3.7/dist-packages (from requests->papermill[all]) (2.10)\n",
            "Requirement already satisfied: chardet<4,>=3.0.2 in /usr/local/lib/python3.7/dist-packages (from requests->papermill[all]) (3.0.4)\n",
            "Requirement already satisfied: urllib3!=1.25.0,!=1.25.1,<1.26,>=1.21.1 in /usr/local/lib/python3.7/dist-packages (from requests->papermill[all]) (1.25.11)\n",
            "Requirement already satisfied: oauthlib>=3.0.0 in /usr/local/lib/python3.7/dist-packages (from requests-oauthlib>=0.5.0->msrest>=0.6.18->azure-storage-blob>=12.1.0->papermill[all]) (3.1.1)\n",
            "Requirement already satisfied: typing-extensions>=3.6.5 in /usr/local/lib/python3.7/dist-packages (from aiohttp->gcsfs>=0.2.0->papermill[all]) (3.7.4.3)\n",
            "Requirement already satisfied: yarl<2.0,>=1.0 in /usr/local/lib/python3.7/dist-packages (from aiohttp->gcsfs>=0.2.0->papermill[all]) (1.6.3)\n",
            "Requirement already satisfied: attrs>=17.3.0 in /usr/local/lib/python3.7/dist-packages (from aiohttp->gcsfs>=0.2.0->papermill[all]) (21.2.0)\n",
            "Requirement already satisfied: multidict<7.0,>=4.5 in /usr/local/lib/python3.7/dist-packages (from aiohttp->gcsfs>=0.2.0->papermill[all]) (5.1.0)\n",
            "Requirement already satisfied: async-timeout<4.0,>=3.0 in /usr/local/lib/python3.7/dist-packages (from aiohttp->gcsfs>=0.2.0->papermill[all]) (3.0.1)\n",
            "Requirement already satisfied: textwrap3>=0.9.2 in /usr/local/lib/python3.7/dist-packages (from ansiwrap->papermill[all]) (0.9.2)\n",
            "Requirement already satisfied: appdirs in /usr/local/lib/python3.7/dist-packages (from black->papermill[all]) (1.4.4)\n",
            "Requirement already satisfied: typed-ast>=1.4.2 in /usr/local/lib/python3.7/dist-packages (from black->papermill[all]) (1.4.3)\n",
            "Requirement already satisfied: pathspec<1,>=0.8.1 in /usr/local/lib/python3.7/dist-packages (from black->papermill[all]) (0.9.0)\n",
            "Requirement already satisfied: mypy-extensions>=0.4.3 in /usr/local/lib/python3.7/dist-packages (from black->papermill[all]) (0.4.3)\n",
            "Requirement already satisfied: regex>=2020.1.8 in /usr/local/lib/python3.7/dist-packages (from black->papermill[all]) (2021.7.6)\n",
            "Requirement already satisfied: tomli<2.0.0,>=0.2.6 in /usr/local/lib/python3.7/dist-packages (from black->papermill[all]) (1.1.0)\n",
            "Requirement already satisfied: s3transfer<0.6.0,>=0.5.0 in /usr/local/lib/python3.7/dist-packages (from boto3->papermill[all]) (0.5.0)\n",
            "Requirement already satisfied: botocore<1.22.0,>=1.21.8 in /usr/local/lib/python3.7/dist-packages (from boto3->papermill[all]) (1.21.8)\n",
            "Requirement already satisfied: jmespath<1.0.0,>=0.7.1 in /usr/local/lib/python3.7/dist-packages (from boto3->papermill[all]) (0.10.0)\n",
            "Requirement already satisfied: numpy>=1.16.6 in /usr/local/lib/python3.7/dist-packages (from pyarrow->papermill[all]) (1.19.5)\n"
          ],
          "name": "stdout"
        }
      ]
    },
    {
      "cell_type": "code",
      "metadata": {
        "colab": {
          "base_uri": "https://localhost:8080/"
        },
        "id": "G5VXJ_EQ1Jsc",
        "outputId": "6b64c372-f8d2-46c7-c543-1efc6f4973bb"
      },
      "source": [
        "print(alpha)\n",
        "print(ratio)"
      ],
      "execution_count": null,
      "outputs": [
        {
          "output_type": "stream",
          "text": [
            "1\n",
            "2\n"
          ],
          "name": "stdout"
        }
      ]
    }
  ]
}